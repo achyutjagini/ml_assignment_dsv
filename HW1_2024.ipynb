{
 "cells": [
  {
   "cell_type": "markdown",
   "metadata": {
    "id": "7vNf-yPJOx75"
   },
   "source": [
    "# Homework 1"
   ]
  },
  {
   "cell_type": "markdown",
   "metadata": {
    "id": "JKdfRsPZOx7-"
   },
   "source": [
    "This homework evaluates if you are familar with NumPy to create machine learning related functions. Thus, all your functions here should be only made using NumPy, without using any other libraries like pandas, scikit-learn, or scipy. You will run a complete machine learning process from preprocessing to model performance testing by using the functions you will develop.\n",
    "\n",
    "### This assignment is made to practice the features of NumPy. Therefore, the use of for loops is strictly prohibited. All problems can be solved without explicit loops."
   ]
  },
  {
   "cell_type": "code",
   "execution_count": 1,
   "metadata": {
    "id": "9BPzS0g9Ox7-"
   },
   "outputs": [],
   "source": [
    "import numpy as np\n",
    "import matplotlib.pyplot as plt"
   ]
  },
  {
   "cell_type": "markdown",
   "metadata": {
    "id": "svj3G7hj4ZxY"
   },
   "source": [
    "In this homework, you will continue to use the same dataset you have used in the first lab, as well as the code you have made. However, this time, you will create a model and even test it - by dividing the dataset into training and test sets. You will practice applying each function one after the other in a correct order.\n",
    "\n",
    "To practice NumPy efficiently, unlike the lab, you will only use the values of the dataset, ignoring Pandas properties such as column names.\n",
    "\n",
    "- Run the block below to load the dataset (**X** and **y**)."
   ]
  },
  {
   "cell_type": "code",
   "execution_count": 2,
   "metadata": {
    "id": "2HAUc00Wmu0E"
   },
   "outputs": [],
   "source": [
    "from sklearn.datasets import fetch_california_housing\n",
    "\n",
    "california_housing = fetch_california_housing(as_frame=False)\n",
    "\n",
    "X = california_housing.data\n",
    "y = california_housing.target"
   ]
  },
  {
   "cell_type": "markdown",
   "metadata": {
    "id": "-txQY1eUoWeg"
   },
   "source": [
    "Now, you are ready to use both features and labels. To handle it correctly, you need to be familiar with its axis concept as it no longer has indices and columns that you can check by printing the variable."
   ]
  },
  {
   "cell_type": "code",
   "execution_count": 3,
   "metadata": {
    "id": "u4KbMNxMm9Oi"
   },
   "outputs": [
    {
     "data": {
      "text/plain": [
       "array([[   8.3252    ,   41.        ,    6.98412698, ...,    2.55555556,\n",
       "          37.88      , -122.23      ],\n",
       "       [   8.3014    ,   21.        ,    6.23813708, ...,    2.10984183,\n",
       "          37.86      , -122.22      ],\n",
       "       [   7.2574    ,   52.        ,    8.28813559, ...,    2.80225989,\n",
       "          37.85      , -122.24      ],\n",
       "       ...,\n",
       "       [   1.7       ,   17.        ,    5.20554273, ...,    2.3256351 ,\n",
       "          39.43      , -121.22      ],\n",
       "       [   1.8672    ,   18.        ,    5.32951289, ...,    2.12320917,\n",
       "          39.43      , -121.32      ],\n",
       "       [   2.3886    ,   16.        ,    5.25471698, ...,    2.61698113,\n",
       "          39.37      , -121.24      ]])"
      ]
     },
     "execution_count": 3,
     "metadata": {},
     "output_type": "execute_result"
    }
   ],
   "source": [
    "X"
   ]
  },
  {
   "cell_type": "code",
   "execution_count": 4,
   "metadata": {
    "id": "9rTO_NYMNHlg"
   },
   "outputs": [
    {
     "data": {
      "text/plain": [
       "array([4.526, 3.585, 3.521, ..., 0.923, 0.847, 0.894])"
      ]
     },
     "execution_count": 4,
     "metadata": {},
     "output_type": "execute_result"
    }
   ],
   "source": [
    "y"
   ]
  },
  {
   "cell_type": "markdown",
   "metadata": {
    "id": "Fbj_IpkHOx8A"
   },
   "source": [
    "### 1. Preprocessing"
   ]
  },
  {
   "cell_type": "markdown",
   "metadata": {
    "id": "EE0ALwTyOx8A"
   },
   "source": [
    "The first task is to open the dataset and preprocess it into the form that the model can understand. It involves imputation, train_test_split, standardization, and normalization. Some functions are already covered by the first lab, so if you finished the lab before, you can freely bring your code here to finish your homework.\n",
    "\n"
   ]
  },
  {
   "cell_type": "markdown",
   "metadata": {
    "id": "t2uFZSUuoh9t"
   },
   "source": [
    "First, you need to develop both standardization and normalization functions. You can re-use your lab functions here if you have finished your lab tasks. Please carefully refer to the definitions of those two functions as follows:\n",
    "\n",
    "\n",
    "- Standardization: Make features have the same standard deviaton and mean.\n",
    "\n",
    "- Normalization: Make the range of value normalized into [0, 1]. This means that each column's minimum value should be zero and maximum value should be one."
   ]
  },
  {
   "cell_type": "code",
   "execution_count": 5,
   "metadata": {
    "id": "bQRVVievOx8A"
   },
   "outputs": [],
   "source": [
    "def standardize(data):\n",
    "  \"\"\"\n",
    "  Input: NumPy ndarray\n",
    "  Output: NumPy ndarray with column mean == 0 and std == 1\n",
    "  \"\"\"\n",
    "  mean = np.mean(data, axis=0)\n",
    "  std = np.std(data, axis=0)\n",
    "  standardized_data = (data - mean) / std\n",
    "  return standardized_data\n",
    "\n",
    "def normalize(data):\n",
    "  \"\"\"\"\n",
    "  Input: NumPy ndarray\n",
    "  Output: NumPy ndarray with column min == 0 and max == 1\n",
    "  \"\"\"\n",
    "  min_val = np.min(data, axis=0)\n",
    "  max_val = np.max(data, axis=0)\n",
    "  normalized_data = (data - min_val) / (max_val - min_val)\n",
    "  return normalized_data\n"
   ]
  },
  {
   "cell_type": "markdown",
   "metadata": {
    "id": "Cb4WgGQ0o_9G"
   },
   "source": [
    "Let's apply both functions separately and create X_standardized and X_normalized."
   ]
  },
  {
   "cell_type": "code",
   "execution_count": 6,
   "metadata": {
    "id": "2qf7fOZG54MA"
   },
   "outputs": [],
   "source": [
    "X_standardized = standardize(X)\n",
    "X_normalized = normalize(X)"
   ]
  },
  {
   "cell_type": "markdown",
   "metadata": {
    "id": "So46vKNl53KL"
   },
   "source": [
    "You may also need to check if those functions are correctly made. Create a function to check the dataset's min, max, mean, std of each feature. You can re-use your lab function (**describe**) but this time you are not allowed to use Pandas DataFrame. There is no expected format for this function if you are successfully able to plot four statistics (min, max, mean, std)."
   ]
  },
  {
   "cell_type": "code",
   "execution_count": 7,
   "metadata": {
    "id": "l9BqVsG36Tsl"
   },
   "outputs": [],
   "source": [
    "def describe(data):\n",
    "  \"\"\"\n",
    "  Describe four statistics of the dataset.\n",
    "\n",
    "  Input: NumPy ndarray\n",
    "  Output: vertical min, max, mean, standard deviation\n",
    "  \"\"\"\n",
    "  min_val = np.min(data, axis=0)\n",
    "  max_val = np.max(data, axis=0)\n",
    "  mean_val = np.mean(data, axis=0)\n",
    "  std_val = np.std(data, axis=0)\n",
    "\n",
    "  print(\"Min:\", min_val)\n",
    "  print(\"Max:\", max_val)\n",
    "  print(\"Mean:\", mean_val)\n",
    "  print(\"Std:\", std_val)\n",
    "  return None"
   ]
  },
  {
   "cell_type": "markdown",
   "metadata": {
    "id": "FZEPPjpJ6W3B"
   },
   "source": [
    "Using this function, let's check if your **standardize** and **normalize** functions are correctly working.\n",
    "- **Your output should be the same as the one below.**"
   ]
  },
  {
   "cell_type": "code",
   "execution_count": 8,
   "metadata": {
    "colab": {
     "base_uri": "https://localhost:8080/"
    },
    "executionInfo": {
     "elapsed": 4,
     "status": "ok",
     "timestamp": 1674746704414,
     "user": {
      "displayName": "Zed Lee",
      "userId": "17112477486863490687"
     },
     "user_tz": -60
    },
    "id": "1NY6wtki6c84",
    "outputId": "945364b8-7158-4052-a701-a279cfef5ea1"
   },
   "outputs": [
    {
     "name": "stdout",
     "output_type": "stream",
     "text": [
      "Min: [-1.77429947 -2.19618048 -1.8523186  -1.61076772 -1.25612255 -0.22899997\n",
      " -1.447568   -2.38599234]\n",
      "Max: [  5.85828581   1.85618152  55.16323628  69.57171326  30.25033022\n",
      " 119.41910319   2.95806762   2.62528006]\n",
      "Mean: [ 6.60969987e-17  5.50808322e-18  6.60969987e-17 -1.06030602e-16\n",
      " -1.10161664e-17  3.44255201e-18 -1.07958431e-15 -8.52651283e-15]\n",
      "Std: [1. 1. 1. 1. 1. 1. 1. 1.]\n"
     ]
    }
   ],
   "source": [
    "describe(X_standardized)"
   ]
  },
  {
   "cell_type": "code",
   "execution_count": 9,
   "metadata": {
    "colab": {
     "base_uri": "https://localhost:8080/"
    },
    "executionInfo": {
     "elapsed": 4,
     "status": "ok",
     "timestamp": 1674746704708,
     "user": {
      "displayName": "Zed Lee",
      "userId": "17112477486863490687"
     },
     "user_tz": -60
    },
    "id": "G7-p5vdl3H4F",
    "outputId": "b179dea5-39dd-4eab-8b1e-ade4f6160794"
   },
   "outputs": [
    {
     "name": "stdout",
     "output_type": "stream",
     "text": [
      "Min: [0. 0. 0. 0. 0. 0. 0. 0.]\n",
      "Max: [1. 1. 1. 1. 1. 1. 1. 1.]\n",
      "Mean: [0.23246376 0.54195071 0.03248795 0.02262871 0.03986874 0.00191395\n",
      " 0.32857188 0.47612505]\n",
      "Std: [0.13101721 0.24676966 0.01753907 0.0140484  0.03173953 0.00835784\n",
      " 0.226982   0.19955012]\n"
     ]
    }
   ],
   "source": [
    "describe(X_normalized)"
   ]
  },
  {
   "cell_type": "markdown",
   "metadata": {
    "id": "mj47zZ264Az0"
   },
   "source": [
    "However, this is not a complete setting, as you need to both train the model and test it. That means you need to divide the dataset into two parts: {a training set, a test set} and only use the training set to train the model. This means that you also need to create the function for it."
   ]
  },
  {
   "cell_type": "code",
   "execution_count": 10,
   "metadata": {
    "id": "ORFET61FbZVy"
   },
   "outputs": [],
   "source": [
    "def train_test_split(X, y, test_ratio = 0.3):\n",
    "  # simulation\n",
    "  # cross-val\n",
    "\n",
    "  \"\"\"\n",
    "  Input:\n",
    "    - X: a set of features\n",
    "    - y: corresponding labels\n",
    "    - test_ratio: ratio of the test set\n",
    "\n",
    "  Output:\n",
    "    - X_train: separated training instances\n",
    "    - X_test: separated test instances\n",
    "    - y_train: separated training labels\n",
    "    - y_test: separated test labels\n",
    "\n",
    "  1. Randomly shuffle the indices of the data instances\n",
    "  2. Divide the indices into two parts with the ratio of [1-test ratio:test ratio]\n",
    "  3. Select training instances and labels with the first set of indices and test instances and labels with the second set of indices\n",
    "  4. Return the training set and the test set\n",
    "  \"\"\"\n",
    "  num_rows = X.shape[0]\n",
    "  indices = np.arange(num_rows)\n",
    "  np.random.shuffle(indices)\n",
    " \n",
    "  split_idx = int(num_rows * (1 - test_ratio))\n",
    "  train_idx, test_idx = indices[:split_idx+1], indices[split_idx+1:]\n",
    "\n",
    "  X_train, X_test = X[train_idx], X[test_idx]\n",
    "  y_train, y_test = y[train_idx], y[test_idx]\n",
    "  return X_train, X_test, y_train, y_test"
   ]
  },
  {
   "cell_type": "markdown",
   "metadata": {
    "id": "twOo6_yniUGO"
   },
   "source": [
    "Split your dataset into training and test sets with `test ratio = 0.33`."
   ]
  },
  {
   "cell_type": "code",
   "execution_count": 11,
   "metadata": {
    "id": "f-iSb7IoijO1"
   },
   "outputs": [],
   "source": [
    "X_train, X_test, y_train, y_test =train_test_split(X, y, test_ratio=0.33) # CHANGE IT"
   ]
  },
  {
   "cell_type": "markdown",
   "metadata": {
    "id": "d9PK6RGbkK7O"
   },
   "source": [
    "After applying your train_test_split function, you can check the shape of each subset. The training set should have 14,448 rows while the test set might have 6,192 records. Uncommend the below line and check the shapes."
   ]
  },
  {
   "cell_type": "code",
   "execution_count": 12,
   "metadata": {
    "id": "bk_pMMo-iquK"
   },
   "outputs": [
    {
     "data": {
      "text/plain": [
       "((13829, 8), (6811, 8), (13829,), (6811,))"
      ]
     },
     "execution_count": 12,
     "metadata": {},
     "output_type": "execute_result"
    }
   ],
   "source": [
    "X_train.shape, X_test.shape, y_train.shape, y_test.shape"
   ]
  },
  {
   "cell_type": "markdown",
   "metadata": {
    "id": "7T8JBhsTj00O"
   },
   "source": [
    "You may remember, when you apply standardization or normalization on both training and test sets, you should not use any statistics from the test set. This means that you should use mean and standard deviation (or max and min values) of the training set and use those statistics to avoid cheating and make a valid model.\n",
    "\n",
    "- Create two functions (**apply_standardization**, **apply_normalization**) that uses training set's statistics and apply standardization or normalization to both sets."
   ]
  },
  {
   "cell_type": "code",
   "execution_count": 13,
   "metadata": {
    "id": "XLs3P181kYHA"
   },
   "outputs": [],
   "source": [
    "def apply_standardization(X_train, X_test):\n",
    "  \"\"\"\n",
    "  Input:\n",
    "    - X_train: training instances\n",
    "    - X_test: test instances\n",
    "\n",
    "  Output:\n",
    "    - X_train_standardized\n",
    "    - X_test_standardized\n",
    "\n",
    "  Use training set's mean and standard deviation to standardize both training and test sets\n",
    "  \"\"\"\n",
    "  mean_val = X_train.mean(axis=0)\n",
    "  std_val = X_train.std(axis=0)\n",
    "    \n",
    "  X_train_standardized = (X_train - mean_val) / std_val\n",
    "  X_test_standardized = (X_test - mean_val) / std_val\n",
    "\n",
    "  return X_train_standardized, X_test_standardized"
   ]
  },
  {
   "cell_type": "code",
   "execution_count": 14,
   "metadata": {
    "id": "sOx7Kd221jRq"
   },
   "outputs": [],
   "source": [
    "def apply_normalization(X_train, X_test):\n",
    "  \"\"\"\n",
    "  Input:\n",
    "    - X_train\n",
    "    - X_test\n",
    "\n",
    "  Output:\n",
    "    - X_train_standardized\n",
    "    - X_test_standardized\n",
    "  \"\"\"\n",
    "  min_val = X_train.min(axis=0)\n",
    "  max_val = X_train.max(axis=0)\n",
    "    \n",
    "  X_train_standardized = (X_train - min_val) / max_val-min_val\n",
    "  X_test_standardized = (X_test - min_val) / max_val-min_val\n",
    "\n",
    "  return X_train_standardized, X_test_standardized"
   ]
  },
  {
   "cell_type": "markdown",
   "metadata": {
    "id": "ujWQ84ZFCa10"
   },
   "source": [
    "- Apply two functions (**apply_standardization**, **apply_normalization**) to created standardized and normalized datasets."
   ]
  },
  {
   "cell_type": "code",
   "execution_count": 15,
   "metadata": {
    "id": "Cw8tjyoCtnqI"
   },
   "outputs": [],
   "source": [
    "X_train_standardized, X_test_standardized = apply_standardization(X_train, X_test)\n",
    "X_train_normalized, X_test_normalized = apply_normalization(X_train, X_test)"
   ]
  },
  {
   "cell_type": "markdown",
   "metadata": {
    "id": "efxhH-DvCxBx"
   },
   "source": [
    "Check the statistics using describe method. Test set should **NOT** have zero mean and standard deviation 1 or zero min and one max. Good test set however might show close value to zero or one."
   ]
  },
  {
   "cell_type": "code",
   "execution_count": 16,
   "metadata": {
    "id": "ch5zQTDDDugQ"
   },
   "outputs": [
    {
     "name": "stdout",
     "output_type": "stream",
     "text": [
      "Min: [-1.7895593  -2.20375751 -1.90291625 -1.59523044 -1.25615663 -0.40544824\n",
      " -1.44700315 -2.35955556]\n",
      "Max: [  5.94586241   1.87180296  53.28706278  68.88934423  30.27126786\n",
      " 106.76331272   2.95628639   2.62110762]\n",
      "Mean: [-1.52915660e-14  6.50045255e-17 -4.54945776e-15 -8.20992224e-15\n",
      " -4.99413203e-17 -2.43013886e-16  1.56242235e-14 -3.29321099e-14]\n",
      "Std: [1. 1. 1. 1. 1. 1. 1. 1.]\n"
     ]
    }
   ],
   "source": [
    "describe(X_train_standardized)"
   ]
  },
  {
   "cell_type": "code",
   "execution_count": 17,
   "metadata": {
    "id": "8qyxhAClDx7e"
   },
   "outputs": [
    {
     "name": "stdout",
     "output_type": "stream",
     "text": [
      "Min: [-1.7895593  -2.12384456 -1.92083228 -1.2469865  -1.2535057  -0.41577075\n",
      " -1.44232378 -2.3844838 ]\n",
      "Max: [  5.94586241   1.87180296  57.21770996  51.27453227  23.98327905\n",
      " 221.92185808   2.92353078   2.49148075]\n",
      "Mean: [ 0.02620051  0.01513802  0.0013874  -0.0007741   0.00243049  0.02961118\n",
      " -0.00062429 -0.00362531]\n",
      "Std: [1.04007172 1.01717344 1.10899726 0.96998358 1.00201379 2.90403017\n",
      " 0.99838526 0.99655625]\n"
     ]
    }
   ],
   "source": [
    "describe(X_test_standardized)"
   ]
  },
  {
   "cell_type": "code",
   "execution_count": 18,
   "metadata": {
    "id": "_tTsEozJ2_3a"
   },
   "outputs": [
    {
     "name": "stdout",
     "output_type": "stream",
     "text": [
      "Min: [ -0.4999      -1.          -0.88888889  -0.33333333  -3.\n",
      "  -0.75       -32.54       124.21260607]\n",
      "Max: [ 4.66773556e-01 -1.92307692e-02  1.04404203e-01  6.56881931e-01\n",
      " -2.00008408e+00  2.48749404e-01 -3.23156853e+01  1.24300000e+02]\n",
      "Mean: [ -0.27626389  -0.46967354  -0.85464076  -0.31092245  -2.96016005\n",
      "  -0.74622146 -32.46628601 124.25859772]\n",
      "Std: [0.12496714 0.24064647 0.01799771 0.01404868 0.03171575 0.00931941\n",
      " 0.05094252 0.01754665]\n"
     ]
    }
   ],
   "source": [
    "describe(X_train_normalized)"
   ]
  },
  {
   "cell_type": "code",
   "execution_count": 19,
   "metadata": {
    "id": "bNplCpND3Byu"
   },
   "outputs": [
    {
     "name": "stdout",
     "output_type": "stream",
     "text": [
      "Min: [ -0.4999      -0.98076923  -0.88921134  -0.32844097  -2.99991592\n",
      "  -0.7500962  -32.53976162 124.21488059]\n",
      "Max: [ 4.66773556e-01 -1.92307692e-02  1.75146841e-01  4.09417067e-01\n",
      " -2.19951236e+00  1.32195887e+00 -3.23173540e+01  1.24300437e+02]\n",
      "Mean: [ -0.27298968  -0.46603063  -0.85461579  -0.31093333  -2.96008297\n",
      "  -0.7459455  -32.46631782 124.25866133]\n",
      "Std: [0.12997479 0.2447792  0.01995941 0.01362699 0.03177962 0.02706384\n",
      " 0.05086026 0.01748622]\n"
     ]
    }
   ],
   "source": [
    "describe(X_test_normalized)"
   ]
  },
  {
   "cell_type": "markdown",
   "metadata": {
    "id": "EgG7BAsDOx8B"
   },
   "source": [
    "### 2. Linear regression"
   ]
  },
  {
   "cell_type": "markdown",
   "metadata": {
    "id": "aDLWBj56D6P6"
   },
   "source": [
    "Now you are ready to put your dataset to train a model. You will continue to use the linear regression that you have made in the lab using the normal equation.\n",
    "\n",
    "- Create the **solver** function that creates a linear regression line and return the coefficents. You can re-use the function from the first lab.\n",
    "- Here you should use **all available features** of the dataset.\n",
    "- You should add one column representing a bias to your feature matrix.\n",
    "\n",
    "The normal equation can be represented as follows:\n",
    "\n",
    "$\\theta = (\\textbf{X}^T \\cdot \\textbf{X})^{-1} \\cdot \\textbf{X}^T \\cdot \\textbf{y}$"
   ]
  },
  {
   "cell_type": "code",
   "execution_count": 20,
   "metadata": {
    "id": "6EkjV6APOx8C"
   },
   "outputs": [],
   "source": [
    "def solver(X, y):\n",
    "  \"\"\"\n",
    "  Get the weights and bias of linear regression classifier on the input dataset (X, y).\n",
    "\n",
    "  Input:\n",
    "   - X: a set of features\n",
    "   - y: labels\n",
    "  Output:\n",
    "   - theta: weights and bias of the linear regression\n",
    "  \"\"\"\n",
    "  X_bias = np.append(np.ones((X.shape[0], 1)), X, axis=1)\n",
    "  theta = np.linalg.inv(np.transpose(X_bias) @ X_bias) @ np.transpose(X_bias) @ y\n",
    "  return theta"
   ]
  },
  {
   "cell_type": "markdown",
   "metadata": {
    "id": "xWZhZW4rExeQ"
   },
   "source": [
    "You should run this solver function only on the standardized training set (**X_train_standardized**, **y_train**) to create the model and evalute it later on the test set.\n",
    "\n",
    "- Run the **solve** function on **X_train_standardized** and **y_train** and save the result to **theta**."
   ]
  },
  {
   "cell_type": "code",
   "execution_count": 21,
   "metadata": {
    "colab": {
     "base_uri": "https://localhost:8080/"
    },
    "executionInfo": {
     "elapsed": 21,
     "status": "ok",
     "timestamp": 1642967292623,
     "user": {
      "displayName": "Zed Lee",
      "photoUrl": "https://lh3.googleusercontent.com/a/default-user=s64",
      "userId": "17112477486863490687"
     },
     "user_tz": -60
    },
    "id": "4_8ETLDgE_5p",
    "outputId": "390908bc-5d45-4e55-f9c3-5b043bc2f0db"
   },
   "outputs": [
    {
     "name": "stdout",
     "output_type": "stream",
     "text": [
      "[ 2.05876899  0.83597781  0.12156575 -0.27015842  0.30056764 -0.00573881\n",
      " -0.0410905  -0.88031422 -0.84809778]\n"
     ]
    }
   ],
   "source": [
    "theta = solver(X_train_standardized, y_train)\n",
    "print(theta)"
   ]
  },
  {
   "cell_type": "markdown",
   "metadata": {
    "id": "dQDfYDDxF9o5"
   },
   "source": [
    "You now have a complete model trained on the training set. Then the next interesting thing is to evaluate if the model is good enough by using the test set. To do this, you need to create a predict function that can return the expected value.\n",
    "\n",
    "- Create the **predict** function which put each instance into the regression equation to predict the value. **DO NOT USE ANY LOOP**."
   ]
  },
  {
   "cell_type": "code",
   "execution_count": 22,
   "metadata": {
    "id": "p-JxOI09ledN"
   },
   "outputs": [],
   "source": [
    "def predict(X, theta):\n",
    "  \"\"\"\n",
    "  Input:\n",
    "   - X: data instances to predict\n",
    "   - theta: trained regression coefficients\n",
    "\n",
    "  Output:\n",
    "   - y_hat: predicted values (X @ weight) + bias\n",
    "  \"\"\"\n",
    "  if X.shape[1] == (len(theta) - 1): \n",
    "     X_with_bias = np.append(np.ones((X.shape[0], 1)), X, axis=1)\n",
    "  else:\n",
    "     X_with_bias = X\n",
    "      \n",
    "  y_hat = X_with_bias @ theta\n",
    "  return y_hat"
   ]
  },
  {
   "cell_type": "markdown",
   "metadata": {
    "id": "psp-L1wGRslu"
   },
   "source": [
    "This predict function should be able to return the predicted value of the housing price. Then now you might want to return the mean squared error (and its variants) of the whole model. There can be many different metrics but here you will measure the rooted mean squared error (RMSE). RMSE can be calculated as follows:"
   ]
  },
  {
   "cell_type": "markdown",
   "metadata": {
    "id": "ljB3uUqjWPbw"
   },
   "source": [
    "$RMSE = \\sqrt{\\frac{1}{n}\\sum_{t=1}^{n}(\\hat{y}_t - y_t)^2} $.\n",
    "\n",
    "Note that $\\hat{y}$ is a predicted label and $y$ is a true label."
   ]
  },
  {
   "cell_type": "markdown",
   "metadata": {
    "id": "aMTnVQGPWfBv"
   },
   "source": [
    "- Create a function **rooted_mean_squared_error** that calculates the RMSE value."
   ]
  },
  {
   "cell_type": "code",
   "execution_count": 23,
   "metadata": {
    "id": "laAN9bTMOx8C"
   },
   "outputs": [],
   "source": [
    "def rooted_mean_squared_error(X, y, theta):\n",
    "  \"\"\"\n",
    "  Input:\n",
    "    - X_test: data instances to test\n",
    "    - y_test: true class labels of the corresponding data instances (X_test)\n",
    "    - theta: trained regression coefficients\n",
    "\n",
    "  Output:\n",
    "    - RMSE: the RMSE score\n",
    "\n",
    "  Use predict function to calculate our predicted values.\n",
    "  \"\"\"\n",
    "  y_pred = predict(X, theta)\n",
    "  rmse = np.sqrt(((y_pred - y) ** 2).mean())\n",
    "  return rmse"
   ]
  },
  {
   "cell_type": "markdown",
   "metadata": {
    "id": "52aH-ML6Seu7"
   },
   "source": [
    "Even though the RMSE is generally the preferred performance measure for\n",
    "regression tasks, in some contexts you may prefer to use another function. For\n",
    "example, suppose that there are many outliers. In that case, you may\n",
    "consider using the mean absolute error (MAE). It's direct translation of l1 and l2 norm. The higher the norm index, the more it focuses on large values and\n",
    "neglects small ones. This is why the RMSE is more sensitive to\n",
    "outliers than the MAE. But when outliers are exponentially rare (like\n",
    "in a bell-shaped curve), the RMSE performs very well and is\n",
    "generally preferred.\n",
    "\n",
    "MAE can be calculated as follows:\n",
    "\n",
    "$MAE = \\frac{1}{n}\\sum_{t=1}^{n}|\\hat{y}_t - y_t|$\n",
    "\n",
    "- Implement a function for MAE **mean_absolute_error**, which receives the same parameters *X*, *y*, and *theta*."
   ]
  },
  {
   "cell_type": "code",
   "execution_count": 24,
   "metadata": {
    "id": "uFEGAF7fqqeg"
   },
   "outputs": [],
   "source": [
    "def mean_absolute_error(X, y, theta):\n",
    "  \"\"\"\n",
    "  Input:\n",
    "    - X_test: data instances to test\n",
    "    - y_test: true values of the corresponding data instances (X_test)\n",
    "    - theta: trained regression coefficients\n",
    "\n",
    "  Output:\n",
    "    - MAE: MAE score\n",
    "\n",
    "  Use predict function to calculate our predicted values.\n",
    "  \"\"\"\n",
    "  y_pred = predict(X, theta)\n",
    "  mae = np.mean(np.abs(y_pred - y))\n",
    "  return mae"
   ]
  },
  {
   "cell_type": "markdown",
   "metadata": {
    "id": "PNC0hszHqyIP"
   },
   "source": [
    "Train your regression model on the **standardized** training set and evaluate your method with two different scores: RMSE and MAE. Print two scores here."
   ]
  },
  {
   "cell_type": "code",
   "execution_count": 25,
   "metadata": {
    "id": "wm8gHjCSq64P"
   },
   "outputs": [],
   "source": [
    "rmse_score = rooted_mean_squared_error(X_test_standardized, y_test, theta)\n",
    "mae_score = mean_absolute_error(X_test_standardized, y_test, theta)"
   ]
  },
  {
   "cell_type": "code",
   "execution_count": 26,
   "metadata": {
    "colab": {
     "base_uri": "https://localhost:8080/"
    },
    "executionInfo": {
     "elapsed": 15,
     "status": "ok",
     "timestamp": 1642967292624,
     "user": {
      "displayName": "Zed Lee",
      "photoUrl": "https://lh3.googleusercontent.com/a/default-user=s64",
      "userId": "17112477486863490687"
     },
     "user_tz": -60
    },
    "id": "LWaJtiItrmDk",
    "outputId": "ba786a85-0aad-45b1-9c6e-57b1a7be2cba"
   },
   "outputs": [
    {
     "data": {
      "text/plain": [
       "(0.7362668720948942, 0.5373967114271849)"
      ]
     },
     "execution_count": 26,
     "metadata": {},
     "output_type": "execute_result"
    }
   ],
   "source": [
    "rmse_score, mae_score"
   ]
  },
  {
   "cell_type": "markdown",
   "metadata": {
    "id": "royxfFHjRjw2"
   },
   "source": [
    "### 4. Linear regression with regularization"
   ]
  },
  {
   "cell_type": "markdown",
   "metadata": {
    "id": "wphcDNvvkwL0"
   },
   "source": [
    "You have learned the Ridge regression in the lecture. Fortunately, the Ridge regression also can be represented as a closed form solution with the normal equation.\n",
    "\n",
    "Your task here is to create a variant of your previous solver function supporting the Ridge regression.\n",
    "\n",
    "A closed form solution to Ridge can be represented as follows:\n",
    "\n",
    "$\\theta = (\\textbf{X}^T \\cdot \\textbf{X} + \\lambda \\textbf{I})^{-1} \\cdot \\textbf{X}^T \\cdot \\textbf{y}$\n",
    "\n",
    "where $\\textbf{I}$ is an $(n+1) \\times (n+1) $ identity matrix, since the feature matrix also includes the bias column.\n"
   ]
  },
  {
   "cell_type": "code",
   "execution_count": 27,
   "metadata": {
    "id": "jvYlCgotRlcK"
   },
   "outputs": [],
   "source": [
    "def solver_with_ridge(X, y, alpha):\n",
    "  \"\"\"\n",
    "  Get the weights and bias of the linear regression line on the dataset X, using the labels y.\n",
    "\n",
    "  Input:\n",
    "   - X: a set of features to get weights\n",
    "   - y: class labels\n",
    "  Output:\n",
    "   - theta: weights and bias of the ridge regression\n",
    "  \"\"\"\n",
    "  X_bias = np.append(np.ones((X.shape[0], 1)), X, axis=1)\n",
    "    \n",
    "  I = np.identity(X_bias.shape[1])\n",
    "  I[0, 0] = 0\n",
    "  theta = np.linalg.inv(np.transpose(X_bias) @ X_bias + alpha * I) @ np.transpose(X_bias) @ y  \n",
    "  return theta"
   ]
  },
  {
   "cell_type": "markdown",
   "metadata": {
    "id": "G-LrDqWSmaGW"
   },
   "source": [
    "Here, compare the performances changing the $\\lambda$ value. Use the $\\lambda$ value from 0 to 20 in increments of 0.2. Use RMSE as a score metric. Save those 300 scores into the list `scores`.\n",
    "\n",
    "- To iterate different $\\lambda$s, you can use a loop for your convenience."
   ]
  },
  {
   "cell_type": "code",
   "execution_count": 28,
   "metadata": {},
   "outputs": [],
   "source": [
    "scores = []\n",
    "\n",
    "for alpha in np.arange(0, 20, 0.2):\n",
    "    theta = solver_with_ridge(X_train, y_train, alpha)\n",
    "    y_pred = predict(X_test, theta)\n",
    "    current_rmse = rooted_mean_squared_error(X_test, y_test, theta)\n",
    "    scores.append(current_rmse)"
   ]
  },
  {
   "cell_type": "code",
   "execution_count": 29,
   "metadata": {
    "scrolled": true
   },
   "outputs": [
    {
     "data": {
      "text/plain": [
       "[0.7362668720948937,\n",
       " 0.736267465378488,\n",
       " 0.7362680619986154,\n",
       " 0.736268661946426,\n",
       " 0.7362692652139359,\n",
       " 0.7362698717925305,\n",
       " 0.7362704816738207,\n",
       " 0.7362710948496953,\n",
       " 0.7362717113116931,\n",
       " 0.7362723310517691,\n",
       " 0.7362729540616284,\n",
       " 0.7362735803327246,\n",
       " 0.7362742098572003,\n",
       " 0.7362748426267326,\n",
       " 0.7362754786333128,\n",
       " 0.7362761178683975,\n",
       " 0.7362767603245081,\n",
       " 0.7362774059931847,\n",
       " 0.7362780548661901,\n",
       " 0.7362787069357093,\n",
       " 0.7362793621937621,\n",
       " 0.7362800206322011,\n",
       " 0.7362806822431504,\n",
       " 0.7362813470186129,\n",
       " 0.7362820149506024,\n",
       " 0.7362826860311262,\n",
       " 0.7362833602524386,\n",
       " 0.736284037606718,\n",
       " 0.7362847180860392,\n",
       " 0.736285401682326,\n",
       " 0.7362860883880042,\n",
       " 0.7362867781952398,\n",
       " 0.7362874710963365,\n",
       " 0.7362881670834839,\n",
       " 0.7362888661489279,\n",
       " 0.7362895682848771,\n",
       " 0.7362902734838854,\n",
       " 0.7362909817378717,\n",
       " 0.7362916930396608,\n",
       " 0.7362924073813444,\n",
       " 0.7362931247553164,\n",
       " 0.7362938451541426,\n",
       " 0.7362945685702114,\n",
       " 0.7362952949957167,\n",
       " 0.7362960244235592,\n",
       " 0.7362967568458741,\n",
       " 0.736297492255396,\n",
       " 0.7362982306445178,\n",
       " 0.7362989720057034,\n",
       " 0.7362997163319438,\n",
       " 0.7363004636154346,\n",
       " 0.736301213848815,\n",
       " 0.7363019670250145,\n",
       " 0.7363027231363781,\n",
       " 0.7363034821756622,\n",
       " 0.7363042441354931,\n",
       " 0.7363050090088131,\n",
       " 0.7363057767882372,\n",
       " 0.7363065474663756,\n",
       " 0.7363073210360814,\n",
       " 0.7363080974902757,\n",
       " 0.7363088768212661,\n",
       " 0.7363096590227216,\n",
       " 0.7363104440866705,\n",
       " 0.7363112320065702,\n",
       " 0.7363120227750048,\n",
       " 0.7363128163849019,\n",
       " 0.7363136128293354,\n",
       " 0.7363144121008064,\n",
       " 0.7363152141928622,\n",
       " 0.7363160190978988,\n",
       " 0.7363168268094666,\n",
       " 0.7363176373202986,\n",
       " 0.7363184506232539,\n",
       " 0.7363192667117694,\n",
       " 0.7363200855785909,\n",
       " 0.736320907216916,\n",
       " 0.7363217316200105,\n",
       " 0.7363225587805367,\n",
       " 0.7363233886923075,\n",
       " 0.7363242213478757,\n",
       " 0.7363250567407577,\n",
       " 0.7363258948639138,\n",
       " 0.7363267357108265,\n",
       " 0.7363275792745873,\n",
       " 0.7363284255485159,\n",
       " 0.736329274525685,\n",
       " 0.7363301261994294,\n",
       " 0.7363309805632785,\n",
       " 0.7363318376104201,\n",
       " 0.7363326973340235,\n",
       " 0.7363335597277114,\n",
       " 0.7363344247845491,\n",
       " 0.7363352924983619,\n",
       " 0.7363361628621806,\n",
       " 0.7363370358694442,\n",
       " 0.7363379115137555,\n",
       " 0.7363387897885392,\n",
       " 0.7363396706871905,\n",
       " 0.7363405542032605]"
      ]
     },
     "execution_count": 29,
     "metadata": {},
     "output_type": "execute_result"
    }
   ],
   "source": [
    "scores"
   ]
  },
  {
   "cell_type": "markdown",
   "metadata": {
    "id": "ILjT1k5FpLVe"
   },
   "source": [
    "Plot the graph of different scores here. If you saved all scores in the list `scores`, you can simply run the block below. The resulting plot behaves in a different way based on your split training and test sets. Sometimes, the error just decreases or increases, but you can also see that the error decreases first, but after some point, it starts to increase. If you are interested, repeat many times to check different plots and you can even change the range from [0, 30] to something else. Uncomment the block below!"
   ]
  },
  {
   "cell_type": "code",
   "execution_count": 30,
   "metadata": {
    "id": "--Ky0LHO0wqM"
   },
   "outputs": [
    {
     "data": {
      "image/png": "[encoded data removed]",
      "text/plain": [
       "<Figure size 640x480 with 1 Axes>"
      ]
     },
     "metadata": {},
     "output_type": "display_data"
    }
   ],
   "source": [
    "plt.plot(np.arange(0, 20, 0.2), scores)\n",
    "plt.xlabel(\"alpha\")\n",
    "plt.ylabel(\"RMSE\")\n",
    "plt.show()"
   ]
  },
  {
   "cell_type": "markdown",
   "metadata": {
    "id": "S3nHFnagh0nC"
   },
   "source": [
    "### 5. Model validation"
   ]
  },
  {
   "cell_type": "markdown",
   "metadata": {
    "id": "p7MnVQ5Rryof"
   },
   "source": [
    "So far, you simply had one test set and one training set. Now the question is if those sets were enough to represent the dataset's distribution. To overcome this problem, various validation methods have been developed and used such as cross-validation or a repeated holdout test. Here, you will develop one function that performs the repeated holdout test. The key strategy of it is to create a completely different training and test set pair for each iteration. You need to iterate the holdout test that you performed many (k) times and return the average score.\n",
    "\n",
    "* You are allowed to use a for loop to iterate k different tests. However, you are not allowed to use the loop to create different indices to divide the dataset.\n",
    "* You can call the `train_test_split` function you have developed above if it helps your development process."
   ]
  },
  {
   "cell_type": "code",
   "execution_count": 31,
   "metadata": {
    "id": "M7JEfZjGijfH"
   },
   "outputs": [],
   "source": [
    "def repeated_hold_out(X, y, k, test_ratio):\n",
    "  \"\"\"\n",
    "  Input:\n",
    "    - X: features\n",
    "    - y: labels\n",
    "    - test_ratio: ratio of the test set\n",
    "  Output:\n",
    "    - score: the average of k different test scores\n",
    "\n",
    "  1. Iterate k times to perform k validation processes.\n",
    "  2. For each iteration, split the dataset into training and test sets with *random* indices.\n",
    "   - Note that each iteration should create different training and test sets.\n",
    "  3. Use *standardization* to fix the scale of the dataset, you should only use the training set's properties.\n",
    "  4. Fit your model with *solver* (without ridge) on the training set.\n",
    "  5. Save your *MAE* score into the list *scores*\n",
    "  6. After all the iterations, return the average of *scores*.\n",
    "\n",
    "  \"\"\"\n",
    "  scores = []\n",
    "\n",
    "  for i in range(k):\n",
    "      X_train, X_test, y_train, y_test = train_test_split(X, y, test_ratio)\n",
    "        \n",
    "      X_train_standardized,X_test_standardized = apply_standardization(X_train,X_test)\n",
    "      \n",
    "      theta = solver(X_train_standardized, y_train)\n",
    "      mae_score = mean_absolute_error(X_test_standardized, y_test,theta)\n",
    "      scores.append(mae_score)\n",
    "      \n",
    "  average_score = sum(scores) / k\n",
    "  return average_score "
   ]
  },
  {
   "cell_type": "markdown",
   "metadata": {
    "id": "Po5UX-gb2idF"
   },
   "source": [
    "Run the holdout test on *X* and *y*, with k = 3 and test ratio = 20%."
   ]
  },
  {
   "cell_type": "code",
   "execution_count": 33,
   "metadata": {
    "id": "QuMGeSGfLjAL"
   },
   "outputs": [
    {
     "data": {
      "text/plain": [
       "0.5345133941649046"
      ]
     },
     "execution_count": 33,
     "metadata": {},
     "output_type": "execute_result"
    }
   ],
   "source": [
    "holdout_score = repeated_hold_out(X, y, 3, 0.2) # CHANGE IT\n",
    "holdout_score"
   ]
  },
  {
   "cell_type": "markdown",
   "metadata": {
    "id": "D7mSIvYbRoQq"
   },
   "source": [
    "### 6. Put things together"
   ]
  },
  {
   "cell_type": "markdown",
   "metadata": {
    "id": "DWjft22LHEJm"
   },
   "source": [
    "It's time to put everything you have done together here. Here you will create a function that manages whole process from receiving raw datasets to returning performance metrics, by modifying the repeated holdout function. This will help you manage your process clearly since it must contain all the functions you use for your dataset (Later you will replace it with scikit-learn's pipeline technique for the same purpose) - By having these management functions, you can switch off some of the techniques, add more techniques in the middle, or replace some of them with other methods, without any problem or confusion.\n",
    "\n",
    "* Complete `pipeline` following the instruction."
   ]
  },
  {
   "cell_type": "code",
   "execution_count": 34,
   "metadata": {
    "id": "6CU_kV0DRpYg"
   },
   "outputs": [],
   "source": [
    "def pipeline(X, y, k = 5, test_ratio = 0.2, norm_method = \"standardization\", eval_method = \"RMSE\", alpha = 0):\n",
    "  \"\"\"\n",
    "  Input:\n",
    "    - X: features\n",
    "    - y: labels\n",
    "    - test_ratio: ratio of the test set\n",
    "  Output:\n",
    "    - score: the average of k different test scores\n",
    "\n",
    "  1. Iterate k times to perform k validation processes.\n",
    "  2. For each iteration, split the dataset into the training and test sets with *random* indices.\n",
    "   - Note that each iteration should create different training and test sets.\n",
    "  3. Check the parameter *norm_method*\n",
    "    - if norm_method == standardization:\n",
    "      - Use *standardization* to fix the scale of the dataset, you should only use the training set's properties.\n",
    "    - if norm_method == normalization:\n",
    "      - Use *normalization* to fix the scale of the dataset, you should only use the training set's properties.\n",
    "  4. Fit your model with *solver_with_ridge\" on the training set. Use alpha from the parameter.\n",
    "  5. Check the parameter \"eval_method\"\n",
    "    - if eval_method == \"RMSE\"\n",
    "      - Save your *RMSE* score into the list *scores*\n",
    "    - if eval_method == \"MAE\"\n",
    "      - Save your *MAE* score into the list *scores*\n",
    "\n",
    "  6. After all the iterations, return the average of *scores*.\n",
    "\n",
    "  \"\"\"\n",
    "  scores = []\n",
    "\n",
    "  for i in range(k):\n",
    "      X_train, X_test, y_train, y_test = train_test_split(X, y, test_ratio)\n",
    "\n",
    "      if norm_method == \"standardization\":\n",
    "         X_train_scaled,X_test_scaled=apply_standardization(X_train,X_test)\n",
    "          \n",
    "      elif norm_method == \"normalization\":\n",
    "         X_train_scaled,X_test_scaled=apply_normalization(X_train, X_test)\n",
    "\n",
    "      theta = solver_with_ridge(X_train_scaled, y_train, alpha)\n",
    "      \n",
    "      y_pred = predict(X_test_scaled, theta)\n",
    "      if eval_method == \"RMSE\":\n",
    "         score = np.sqrt(np.mean((y_pred - y_test) ** 2))\n",
    "      elif eval_method == \"MAE\":\n",
    "         score = np.mean(np.abs(y_pred - y_test))\n",
    "\n",
    "      scores.append(score)\n",
    "  average_score = sum(scores) / k\n",
    "  return average_score"
   ]
  },
  {
   "cell_type": "markdown",
   "metadata": {
    "id": "P7GKrthoLOlD"
   },
   "source": [
    "Now you are ready to run various tasks by using this single function. Will the best model the same under RMSE or MAE? Will different k or test ratio result in different best model? You can do many different trials to find a good model.\n",
    "\n",
    "- (Optional) Change a normalization method, an alpha value to find out the best classifier under either RMSE or MAE score. This task is completely optional and will not affect your homework grade."
   ]
  },
  {
   "cell_type": "code",
   "execution_count": 35,
   "metadata": {
    "id": "bkCeCDoPLNGp"
   },
   "outputs": [],
   "source": [
    "best_model = None"
   ]
  },
  {
   "cell_type": "markdown",
   "metadata": {
    "id": "cWugHCgB2Cpq"
   },
   "source": [
    "# END"
   ]
  }
 ],
 "metadata": {
  "colab": {
   "provenance": []
  },
  "interpreter": {
   "hash": "b3ba2566441a7c06988d0923437866b63cedc61552a5af99d1f4fb67d367b25f"
  },
  "kernelspec": {
   "display_name": "Python 3 (ipykernel)",
   "language": "python",
   "name": "python3"
  },
  "language_info": {
   "codemirror_mode": {
    "name": "ipython",
    "version": 3
   },
   "file_extension": ".py",
   "mimetype": "text/x-python",
   "name": "python",
   "nbconvert_exporter": "python",
   "pygments_lexer": "ipython3",
   "version": "3.9.18"
  }
 },
 "nbformat": 4,
 "nbformat_minor": 4
}
